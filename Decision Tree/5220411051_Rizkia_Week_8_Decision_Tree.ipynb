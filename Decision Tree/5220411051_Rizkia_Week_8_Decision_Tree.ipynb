{
  "nbformat": 4,
  "nbformat_minor": 0,
  "metadata": {
    "colab": {
      "provenance": []
    },
    "kernelspec": {
      "name": "python3",
      "display_name": "Python 3"
    },
    "language_info": {
      "name": "python"
    }
  },
  "cells": [
    {
      "cell_type": "code",
      "execution_count": null,
      "metadata": {
        "colab": {
          "base_uri": "https://localhost:8080/",
          "height": 767
        },
        "id": "CkFJagLOi-oo",
        "outputId": "8762e509-da35-45b8-f4d6-c642147c62aa"
      },
      "outputs": [
        {
          "output_type": "stream",
          "name": "stdout",
          "text": [
            "0.8571428571428571\n"
          ]
        },
        {
          "output_type": "display_data",
          "data": {
            "text/plain": [
              "<Figure size 640x480 with 2 Axes>"
            ],
            "image/png": "[encoded data removed]"
          },
          "metadata": {}
        },
        {
          "output_type": "stream",
          "name": "stdout",
          "text": [
            "|--- jml_phsl <= -0.29\n",
            "|   |--- jml_phsl <= -0.98\n",
            "|   |   |--- class: 0\n",
            "|   |--- jml_phsl >  -0.98\n",
            "|   |   |--- class: 1\n",
            "|--- jml_phsl >  -0.29\n",
            "|   |--- jml_art <= 0.77\n",
            "|   |   |--- jml_art <= -0.43\n",
            "|   |   |   |--- class: 0\n",
            "|   |   |--- jml_art >  -0.43\n",
            "|   |   |   |--- status_tmpt <= -0.18\n",
            "|   |   |   |   |--- class: 0\n",
            "|   |   |   |--- status_tmpt >  -0.18\n",
            "|   |   |   |   |--- class: 1\n",
            "|   |--- jml_art >  0.77\n",
            "|   |   |--- class: 1\n",
            "\n"
          ]
        }
      ],
      "source": [
        "from sklearn.preprocessing import StandardScaler\n",
        "from sklearn.metrics import accuracy_score\n",
        "import pandas as pd\n",
        "import numpy as np\n",
        "from sklearn.tree import DecisionTreeClassifier\n",
        "from sklearn import tree\n",
        "\n",
        "# # Mount google drive\n",
        "# drive.mount('/content/drive', force_remount=True)\n",
        "# from google.colab import drive\n",
        "\n",
        "# # Import libraries\n",
        "# from os import chdir\n",
        "# chdir('/content/drive/My Drive/_OPRIBADI/BUKU_MLSPK/')\n",
        "\n",
        "import pandas as pd\n",
        "import numpy as np\n",
        "from sklearn.tree import DecisionTreeClassifier\n",
        "\n",
        "# Load data\n",
        "data_train = pd.read_csv('data_train1.csv')\n",
        "data_test = pd.read_csv('data_test.csv')\n",
        "\n",
        "# Preprocess data\n",
        "X_train_awal = data_train.drop('hasil', axis=1)\n",
        "X_train = np.array(X_train_awal.values)\n",
        "y_train_awal = data_train['hasil']\n",
        "y_train = np.array(y_train_awal.values)\n",
        "\n",
        "X_test_awal = data_test.drop('hasil', axis=1)\n",
        "X_test = pd.DataFrame(X_test_awal.values)\n",
        "y_test_awal = data_test['hasil']\n",
        "y_test = pd.DataFrame(y_test_awal.values)\n",
        "\n",
        "# Train model\n",
        "clf = DecisionTreeClassifier()\n",
        "clf.fit(X_train, y_train)\n",
        "\n",
        "# Make predictions\n",
        "X_test_prediction = clf.predict(X_test)\n",
        "X_test_predictionl = clf.predict(X_train)\n",
        "\n",
        "# Evaluate model\n",
        "X_test_awal['label_asli'] = y_test_awal\n",
        "X_test_awal['label_pred'] = X_test_prediction\n",
        "test_data_accuracy = accuracy_score(y_test, X_test_prediction)\n",
        "print(test_data_accuracy)\n",
        "\n",
        "#Confussion matrix\n",
        "import matplotlib.pyplot as plt\n",
        "from sklearn.metrics import accuracy_score\n",
        "from sklearn import metrics\n",
        "confusion_matrix = metrics.confusion_matrix(y_test, y_test_awal)\n",
        "cm_display = metrics.ConfusionMatrixDisplay(confusion_matrix, display_labels=[False, True])\n",
        "cm_display.plot()\n",
        "plt.show()\n",
        "\n",
        "# Decision Tree Text Representation\n",
        "from sklearn import tree\n",
        "text_representation = tree.export_text(clf, feature_names=[\"jenis_pkj\", \"jml_phsl\", \"jml_art\", \"pengeluaran\", \"status_tmpt\"])\n",
        "print(text_representation)\n",
        "\n",
        "# Decision Tree Graph\n",
        "from sklearn import tree\n",
        "import graphviz\n",
        "\n",
        "dot_data = tree.export_graphviz(clf, out_file=None, feature_names=[\"jenis_pkj\", \"jml_phsl\", \"jml_art\", \"pengeluaran\", \"status_tmpt\"],\n",
        "                                class_names=['0', '1'], filled=True, max_depth=3)\n",
        "\n",
        "graph = graphviz.Source(dot_data, format=\"png\")"
      ]
    },
    {
      "cell_type": "code",
      "source": [
        "import pandas as pd\n",
        "import numpy as np\n",
        "from sklearn.tree import DecisionTreeClassifier\n",
        "from sklearn.metrics import accuracy_score, confusion_matrix, ConfusionMatrixDisplay\n",
        "import matplotlib.pyplot as plt\n",
        "from sklearn import tree\n",
        "import graphviz\n",
        "\n",
        "# Load data\n",
        "data = pd.read_csv('CustomerBehaviour.csv')\n",
        "\n",
        "# Preprocess data\n",
        "X = data.drop('PurchasedKategorial', axis=1)\n",
        "X = pd.get_dummies(X)  # One-hot encode categorical variables\n",
        "y = data['PurchasedKategorial']\n",
        "\n",
        "# Train-test split\n",
        "from sklearn.model_selection import train_test_split\n",
        "X_train, X_test, y_train, y_test = train_test_split(X, y, test_size=0.2, random_state=42)\n",
        "\n",
        "# Train model\n",
        "clf = DecisionTreeClassifier()\n",
        "clf.fit(X_train, y_train)\n",
        "\n",
        "# Make predictions\n",
        "y_pred_train = clf.predict(X_train)\n",
        "y_pred_test = clf.predict(X_test)\n",
        "\n",
        "# Evaluate model\n",
        "train_accuracy = accuracy_score(y_train, y_pred_train)\n",
        "test_accuracy = accuracy_score(y_test, y_pred_test)\n",
        "print(\"Training Accuracy:\", train_accuracy)\n",
        "print(\"Testing Accuracy:\", test_accuracy)\n",
        "\n",
        "# Confusion matrix for test data\n",
        "cm_test = confusion_matrix(y_test, y_pred_test)\n",
        "disp = ConfusionMatrixDisplay(confusion_matrix=cm_test, display_labels=clf.classes_)\n",
        "disp.plot(cmap=plt.cm.Blues)\n",
        "plt.title('Confusion Matrix for Test Data')\n",
        "plt.show()\n",
        "\n",
        "# Decision Tree Text Representation\n",
        "text_representation = tree.export_text(clf, feature_names=X.columns.tolist())\n",
        "print(text_representation)\n",
        "\n",
        "# Decision Tree Graph\n",
        "class_names = ['FALSE', 'TRUE']  # Convert boolean values to strings\n",
        "dot_data = tree.export_graphviz(clf, out_file=None, feature_names=X.columns.tolist(),\n",
        "                                class_names=class_names, filled=True, max_depth=3)\n",
        "\n",
        "graph = graphviz.Source(dot_data, format=\"png\")\n",
        "graph.render(\"decision_tree_graph\")  # Save the graph as PNG file\n"
      ],
      "metadata": {
        "colab": {
          "base_uri": "https://localhost:8080/",
          "height": 618
        },
        "id": "-6z8hR30pr_0",
        "outputId": "fe1b1912-8ec9-4f9f-f8ba-d6797f3d6c9b"
      },
      "execution_count": 7,
      "outputs": [
        {
          "output_type": "stream",
          "name": "stdout",
          "text": [
            "Training Accuracy: 1.0\n",
            "Testing Accuracy: 1.0\n"
          ]
        },
        {
          "output_type": "display_data",
          "data": {
            "text/plain": [
              "<Figure size 640x480 with 2 Axes>"
            ],
            "image/png": "[encoded data removed]"
          },
          "metadata": {}
        },
        {
          "output_type": "stream",
          "name": "stdout",
          "text": [
            "|--- Purchased <= 0.50\n",
            "|   |--- class: False\n",
            "|--- Purchased >  0.50\n",
            "|   |--- class: True\n",
            "\n"
          ]
        },
        {
          "output_type": "execute_result",
          "data": {
            "text/plain": [
              "'decision_tree_graph.png'"
            ],
            "application/vnd.google.colaboratory.intrinsic+json": {
              "type": "string"
            }
          },
          "metadata": {},
          "execution_count": 7
        }
      ]
    }
  ]
}