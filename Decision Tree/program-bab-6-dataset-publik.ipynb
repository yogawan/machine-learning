{
 "cells": [
  {
   "cell_type": "code",
   "execution_count": 3,
   "metadata": {},
   "outputs": [
    {
     "name": "stdout",
     "output_type": "stream",
     "text": [
      "0.8571428571428571\n"
     ]
    },
    {
     "data": {
      "image/png": "[encoded data removed]",
      "text/plain": [
       "<Figure size 640x480 with 2 Axes>"
      ]
     },
     "metadata": {},
     "output_type": "display_data"
    },
    {
     "name": "stdout",
     "output_type": "stream",
     "text": [
      "|--- jml_phsl <= -0.29\n",
      "|   |--- jml_phsl <= -0.98\n",
      "|   |   |--- class: 0\n",
      "|   |--- jml_phsl >  -0.98\n",
      "|   |   |--- class: 1\n",
      "|--- jml_phsl >  -0.29\n",
      "|   |--- jml_art <= 0.77\n",
      "|   |   |--- status_tmpt <= -0.18\n",
      "|   |   |   |--- class: 0\n",
      "|   |   |--- status_tmpt >  -0.18\n",
      "|   |   |   |--- jml_art <= -0.43\n",
      "|   |   |   |   |--- class: 0\n",
      "|   |   |   |--- jml_art >  -0.43\n",
      "|   |   |   |   |--- class: 1\n",
      "|   |--- jml_art >  0.77\n",
      "|   |   |--- class: 1\n",
      "\n"
     ]
    }
   ],
   "source": [
    "from sklearn.preprocessing import StandardScaler\n",
    "from sklearn.metrics import accuracy_score\n",
    "import pandas as pd\n",
    "import numpy as np\n",
    "from sklearn.tree import DecisionTreeClassifier\n",
    "from sklearn import tree\n",
    "import pandas as pd\n",
    "import numpy as np\n",
    "from sklearn.tree import DecisionTreeClassifier\n",
    "\n",
    "# Load data\n",
    "data_train = pd.read_csv('data_train.csv')\n",
    "data_test = pd.read_csv('data_test.csv')\n",
    "\n",
    "# Preprocess data\n",
    "X_train_awal = data_train.drop('hasil', axis=1)\n",
    "X_train = np.array(X_train_awal.values)\n",
    "y_train_awal = data_train['hasil']\n",
    "y_train = np.array(y_train_awal.values)\n",
    "\n",
    "X_test_awal = data_test.drop('hasil', axis=1)\n",
    "X_test = pd.DataFrame(X_test_awal.values)\n",
    "y_test_awal = data_test['hasil']\n",
    "y_test = pd.DataFrame(y_test_awal.values)\n",
    "\n",
    "# Train model\n",
    "clf = DecisionTreeClassifier()\n",
    "clf.fit(X_train, y_train)\n",
    "\n",
    "# Make predictions\n",
    "X_test_prediction = clf.predict(X_test)\n",
    "X_test_predictionl = clf.predict(X_train)\n",
    "\n",
    "# Evaluate model\n",
    "X_test_awal['label_asli'] = y_test_awal\n",
    "X_test_awal['label_pred'] = X_test_prediction\n",
    "test_data_accuracy = accuracy_score(y_test, X_test_prediction)\n",
    "print(test_data_accuracy)\n",
    "\n",
    "# Confussion matrix\n",
    "import matplotlib.pyplot as plt\n",
    "from sklearn.metrics import accuracy_score\n",
    "from sklearn import metrics\n",
    "confusion_matrix = metrics.confusion_matrix(y_test, y_test_awal)\n",
    "cm_display = metrics.ConfusionMatrixDisplay(confusion_matrix, display_labels=[False, True])\n",
    "cm_display.plot()\n",
    "plt.show()\n",
    "\n",
    "# Decision Tree Text Representation\n",
    "from sklearn import tree\n",
    "text_representation = tree.export_text(clf, feature_names=[\"jenis_pkj\", \"jml_phsl\", \"jml_art\", \"pengeluaran\", \"status_tmpt\"])\n",
    "print(text_representation)\n",
    "\n",
    "# Decision Tree Graph\n",
    "from sklearn import tree\n",
    "import graphviz\n",
    "\n",
    "dot_data = tree.export_graphviz(clf, out_file=None, feature_names=[\"jenis_pkj\", \"jml_phsl\", \"jml_art\", \"pengeluaran\", \"status_tmpt\"],\n",
    "                                class_names=['0', '1'], filled=True, max_depth=3)\n",
    "\n",
    "graph = graphviz.Source(dot_data, format=\"png\")"
   ]
  }
 ],
 "metadata": {
  "kernelspec": {
   "display_name": "Python 3",
   "language": "python",
   "name": "python3"
  },
  "language_info": {
   "codemirror_mode": {
    "name": "ipython",
    "version": 3
   },
   "file_extension": ".py",
   "mimetype": "text/x-python",
   "name": "python",
   "nbconvert_exporter": "python",
   "pygments_lexer": "ipython3",
   "version": "3.11.1"
  }
 },
 "nbformat": 4,
 "nbformat_minor": 2
}
